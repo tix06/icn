{
 "cells": [
  {
   "cell_type": "markdown",
   "metadata": {},
   "source": [
    "> En mathématiques, un carré magique d’ordre n est composé de n2 entiers strictement positifs, écrits sous la forme d’un tableau carré. Ces nombres sont disposés de sorte que leurs sommes sur chaque rangée, sur chaque colonne et sur chaque diagonale principale soient égales. On nomme alors constante magique (et parfois densité) la valeur de ces sommes.\n",
    "[Source: Wikipedia](https://fr.wikipedia.org/wiki/Carré_magique_(mathématiques))\n",
    "\n",
    "<a title=\"By User:Phidauex (Own work) [Public domain], via Wikimedia Commons\" href=\"https://commons.wikimedia.org/wiki/File%3AMagicsquareexample.svg\"><img width=\"256\" alt=\"Magicsquareexample\" src=\"https://upload.wikimedia.org/wikipedia/commons/thumb/e/e4/Magicsquareexample.svg/128px-Magicsquareexample.svg.png\"/></a>"
   ]
  },
  {
   "cell_type": "markdown",
   "metadata": {},
   "source": [
    "# Stocker les valeurs\n",
    "\n",
    "On choisit de stocker les valeurs des lignes sous forme de listes:"
   ]
  },
  {
   "cell_type": "code",
   "execution_count": 11,
   "metadata": {
    "collapsed": true
   },
   "outputs": [],
   "source": [
    "l1 = [2, 7, 6]\n",
    "l2 = [9, 5, 1]\n",
    "l3 = [4, 3, 8]"
   ]
  },
  {
   "cell_type": "markdown",
   "metadata": {},
   "source": [
    "# Calculer les sommes d'une ligne\n",
    "\n",
    "On peut caluler la somme d'une ligne en additionnant chacune des valeurs de la ligne:\n"
   ]
  },
  {
   "cell_type": "code",
   "execution_count": 12,
   "metadata": {
    "collapsed": false
   },
   "outputs": [
    {
     "name": "stdout",
     "output_type": "stream",
     "text": [
      "15\n"
     ]
    }
   ],
   "source": [
    "s1 = l1[0] + l1[1] +l1[2]\n",
    "print(s1)"
   ]
  },
  {
   "cell_type": "markdown",
   "metadata": {},
   "source": [
    "## Utiliser une boucle for\n",
    "\n",
    "Mais il est plus intéressant d'utiliser un boucle `for` pour ça:"
   ]
  },
  {
   "cell_type": "code",
   "execution_count": 13,
   "metadata": {
    "collapsed": false
   },
   "outputs": [
    {
     "name": "stdout",
     "output_type": "stream",
     "text": [
      "15\n"
     ]
    }
   ],
   "source": [
    "# On initialise la variable somme s1\n",
    "s1 = 0\n",
    "for valeur in l1:\n",
    "    s1 = s1 + valeur\n",
    "print(s1)"
   ]
  },
  {
   "cell_type": "markdown",
   "metadata": {},
   "source": [
    "## Utiliser une fonction\n",
    "Ou encore mieux, une fonction qui accepte comme argument la liste contenant les valeurs de la ligne et qui renvoie la somme:\n",
    "    "
   ]
  },
  {
   "cell_type": "code",
   "execution_count": 14,
   "metadata": {
    "collapsed": false
   },
   "outputs": [
    {
     "name": "stdout",
     "output_type": "stream",
     "text": [
      "15\n"
     ]
    }
   ],
   "source": [
    "# définition de la fonction somme_ligne\n",
    "def somme_ligne(liste):\n",
    "    somme =0\n",
    "    for valeur in liste:\n",
    "        somme = somme + valeur\n",
    "    return somme\n",
    "\n",
    "# Appel de la fonction avec la ligne l1\n",
    "\n",
    "s1 = somme_ligne(l1)\n",
    "print(s1)"
   ]
  },
  {
   "cell_type": "markdown",
   "metadata": {},
   "source": [
    "## A vous\n",
    "Vérifier que les trois lignes ont bien une somme égale grâce à une structure conditionnelle `if` et afficher le message de réussite ou d'échec à l'utilisateur."
   ]
  },
  {
   "cell_type": "markdown",
   "metadata": {},
   "source": [
    "# Calculer les sommes d'une colonne\n",
    "\n",
    "On peut caluler la somme d'une colonne en additionnant chacune des valeurs de chaque ligne:\n"
   ]
  },
  {
   "cell_type": "code",
   "execution_count": 15,
   "metadata": {
    "collapsed": false
   },
   "outputs": [
    {
     "name": "stdout",
     "output_type": "stream",
     "text": [
      "15\n"
     ]
    }
   ],
   "source": [
    "c1 = l1[0] + l2[0] +l3[0]\n",
    "print(c1)"
   ]
  },
  {
   "cell_type": "markdown",
   "metadata": {},
   "source": [
    "## A vous\n",
    "Trouver un moyen d'utiliser une boucle pour calculer la somme des colonnes, on pourra s'aider de l'exemple de code ci-dessous pour lancer la boucle.\n",
    "\n",
    "Une fois le calcul effectuer *comparer* les valeurs et **afficher un message** à l'utilisateur en cas de réussite ou non."
   ]
  },
  {
   "cell_type": "code",
   "execution_count": 16,
   "metadata": {
    "collapsed": false
   },
   "outputs": [
    {
     "name": "stdout",
     "output_type": "stream",
     "text": [
      "[2, 7, 6]\n",
      "[9, 5, 1]\n",
      "[4, 3, 8]\n"
     ]
    }
   ],
   "source": [
    "for line in l1, l2, l3:\n",
    "    print(line)"
   ]
  },
  {
   "cell_type": "markdown",
   "metadata": {},
   "source": [
    "# Calculer les sommes d'une diagonale\n",
    "\n",
    "## A vous\n",
    "\n",
    "Calculer la somme d'une diagonale, puis de l'autre et stocker ces valeurs dans les variables `d1` et `d2`. \n",
    "\n",
    "Une fois le calcul effectué *comparer* les valeurs et **afficher un message** à l'utilisateur en cas de réussite ou non."
   ]
  },
  {
   "cell_type": "markdown",
   "metadata": {},
   "source": [
    "# Finaliser le programme\n",
    "\n",
    "Réaliser un programme qui à partir de trois listes l1, l2, et l3 effectue toutes les comparaisons et affiche un message à l'utilisateur pour indiquer si **le carré est magique ou non**."
   ]
  },
  {
   "cell_type": "markdown",
   "metadata": {},
   "source": [
    "# Pour aller plus loin\n",
    "\n",
    "- Demander à l'utilisateur d'entrer ces données en utilisant la fonction `input()` en convertissant ces valeurs en liste.\n",
    "- Utiliser 3 fonctions pour vérifier les sommes des lignes, colonnes et diagonales.\n",
    "- Stocker le tableau non dans trois listes de 3 éléments, mais dans une seule de 9 en *concaténant* les trois listes, puis réaliser le traitement des données sur ce tableau. Expliquer en quoi ce stockage est plus *pratique*.\n"
   ]
  },
  {
   "cell_type": "code",
   "execution_count": 17,
   "metadata": {
    "collapsed": false
   },
   "outputs": [
    {
     "name": "stdout",
     "output_type": "stream",
     "text": [
      "[2, 7, 6, 9, 5, 1, 4, 3, 8]\n"
     ]
    }
   ],
   "source": [
    "tableau = l1 + l2 + l3\n",
    "print(tableau)"
   ]
  },
  {
   "cell_type": "markdown",
   "metadata": {},
   "source": [
    "- Trouver un moyen de vérifier un tableau plus grand comme celui ci-dessous.\n",
    "\n",
    "<a title=\"By Cantons-de-l&#039;Est (Own work) [GFDL (http://www.gnu.org/copyleft/fdl.html) or CC BY-SA 3.0 (http://creativecommons.org/licenses/by-sa/3.0)], via Wikimedia Commons\" href=\"https://commons.wikimedia.org/wiki/File%3AMagic_Squares_-_Multiplication_-_3.svg\"><img width=\"256\" alt=\"Magic Squares - Multiplication - 3\" src=\"https://upload.wikimedia.org/wikipedia/commons/thumb/9/91/Magic_Squares_-_Multiplication_-_3.svg/256px-Magic_Squares_-_Multiplication_-_3.svg.png\"/></a>\n"
   ]
  },
  {
   "cell_type": "markdown",
   "metadata": {},
   "source": [
    "Pour vous aider voici la liste de départ:"
   ]
  },
  {
   "cell_type": "code",
   "execution_count": 18,
   "metadata": {
    "collapsed": true
   },
   "outputs": [],
   "source": [
    "carré144 = [31, 36, 29, 30, 32, 34, 35, 28, 33, 121, 126, 119, 120, 122, 124, 125, 118, 123, 130, 135, 128, 129, 131, 133, 134, 127, 132, 4, 9, 2, 3, 5, 7, 8, 1, 6, 76, 81, 74, 75, 77, 79, 80, 73, 78, 58, 63, 56, 57, 59, 61, 62, 55, 60, 49, 54, 47, 48, 50, 52, 53, 46, 51, 103, 108, 101, 102, 104, 106, 107, 100, 105, 40, 45, 38, 39, 41, 43, 44, 37, 42, 94, 99, 92, 93, 95, 97, 98, 91, 96, 85, 90, 83, 84, 86, 88, 89, 82, 87, 67, 72, 65, 66, 68, 70, 71, 64, 69, 139, 144, 137, 138, 140, 142, 143, 136, 141, 13, 18, 11, 12, 14, 16, 17, 10, 15, 22, 27, 20, 21, 23, 25, 26, 19, 24, 112, 117, 110, 111, 113, 115, 116, 109, 114]"
   ]
  }
 ],
 "metadata": {
  "kernelspec": {
   "display_name": "Python 3",
   "language": "python",
   "name": "python3"
  },
  "language_info": {
   "codemirror_mode": {
    "name": "ipython",
    "version": 3
   },
   "file_extension": ".py",
   "mimetype": "text/x-python",
   "name": "python",
   "nbconvert_exporter": "python",
   "pygments_lexer": "ipython3",
   "version": "3.5.1"
  }
 },
 "nbformat": 4,
 "nbformat_minor": 0
}
