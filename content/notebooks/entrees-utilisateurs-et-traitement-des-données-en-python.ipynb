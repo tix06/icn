{
 "cells": [
  {
   "cell_type": "markdown",
   "metadata": {},
   "source": [
    "# Récupérer une entrée de l'utilisateur\n",
    "\n",
    "On utilise la fonction `input()`\n",
    "\n",
    "reponse = input('Entrer votre réponse')\n",
    "\n",
    "Si l'utilisateur entre Oui, la variable reponse contient alors la chaîne de caractère `'Oui'`."
   ]
  },
  {
   "cell_type": "code",
   "execution_count": 7,
   "metadata": {
    "collapsed": false
   },
   "outputs": [
    {
     "name": "stdout",
     "output_type": "stream",
     "text": [
      "Entrer votre réponse: Oui\n",
      "Oui\n"
     ]
    }
   ],
   "source": [
    "# Application\n",
    "reponse = input('Entrer votre réponse: ')\n",
    "print(reponse)"
   ]
  },
  {
   "cell_type": "markdown",
   "metadata": {},
   "source": [
    "# Tester une chaîne de caractères\n",
    "\n",
    "On réalise des tests de conditions sous la forme:\n",
    "\n",
    "    if <test>:\n",
    "        code éxecuté si le test réussi\n",
    "    else:\n",
    "        code exécuté si le test raté\n",
    "\n",
    "avec éventuellement d'autres cas en utilisant la clause `elif`(elseif) qui permet de réaliser un ou des tests suplémentaires.\n",
    "\n",
    "\n",
    "    if <test1>:\n",
    "        code éxecuté si le test1 réussi\n",
    "    elif <test2>:\n",
    "        code éxecuté si le test2 réussi\n",
    "    else:\n",
    "        code exécuté si tous les tests ratent"
   ]
  },
  {
   "cell_type": "code",
   "execution_count": 8,
   "metadata": {
    "collapsed": false
   },
   "outputs": [
    {
     "name": "stdout",
     "output_type": "stream",
     "text": [
      "Vous êtes le champion\n"
     ]
    }
   ],
   "source": [
    "# Application if\n",
    "\n",
    "if reponse == 'Oui':\n",
    "    print('Vous êtes le champion')\n",
    "else:\n",
    "    print(\"C'est râté\")"
   ]
  },
  {
   "cell_type": "code",
   "execution_count": 9,
   "metadata": {
    "collapsed": false
   },
   "outputs": [
    {
     "name": "stdout",
     "output_type": "stream",
     "text": [
      "Bravo quel positivisme.\n"
     ]
    }
   ],
   "source": [
    "# Application avec elif\n",
    "\n",
    "if reponse == 'Non':\n",
    "    print('Ne soyez pas aussi Défaitiste')\n",
    "elif reponse == 'Oui':\n",
    "    print(\"Bravo quel positivisme.\")\n",
    "else:\n",
    "    print(\"C'est râté\")"
   ]
  },
  {
   "cell_type": "markdown",
   "metadata": {},
   "source": [
    "# Manipuler les données\n",
    "\n",
    "En python peut modifier une chaîne de caractère(*string* en anglais) grâce à des fonctions du type: \n",
    "\n",
    "- `str.lower()`: conversion en minuscules\n",
    "- `str.upper()`: conversion en majuscules\n",
    "\n",
    "Ou même **si possible** les convertir en nombre:\n",
    "\n",
    "- `int()` : conversion en entier\n",
    "- `float()` : conversion en nombre à virgule(nombre flottant)"
   ]
  },
  {
   "cell_type": "code",
   "execution_count": 15,
   "metadata": {
    "collapsed": false
   },
   "outputs": [
    {
     "data": {
      "text/plain": [
       "'oui'"
      ]
     },
     "execution_count": 15,
     "metadata": {},
     "output_type": "execute_result"
    }
   ],
   "source": [
    "str.lower('Oui')"
   ]
  },
  {
   "cell_type": "code",
   "execution_count": 16,
   "metadata": {
    "collapsed": false
   },
   "outputs": [
    {
     "data": {
      "text/plain": [
       "'OUI'"
      ]
     },
     "execution_count": 16,
     "metadata": {},
     "output_type": "execute_result"
    }
   ],
   "source": [
    "str.upper('Oui')"
   ]
  },
  {
   "cell_type": "code",
   "execution_count": 18,
   "metadata": {
    "collapsed": false
   },
   "outputs": [
    {
     "ename": "ValueError",
     "evalue": "invalid literal for int() with base 10: 'Oui'",
     "output_type": "error",
     "traceback": [
      "\u001b[1;31m---------------------------------------------------------------------------\u001b[0m",
      "\u001b[1;31mValueError\u001b[0m                                Traceback (most recent call last)",
      "\u001b[1;32m<ipython-input-18-bf1dc980d1fa>\u001b[0m in \u001b[0;36m<module>\u001b[1;34m()\u001b[0m\n\u001b[1;32m----> 1\u001b[1;33m \u001b[0mint\u001b[0m\u001b[1;33m(\u001b[0m\u001b[1;34m'Oui'\u001b[0m\u001b[1;33m)\u001b[0m \u001b[1;31m# renvoie une erreur car conversion impossible\u001b[0m\u001b[1;33m\u001b[0m\u001b[0m\n\u001b[0m",
      "\u001b[1;31mValueError\u001b[0m: invalid literal for int() with base 10: 'Oui'"
     ]
    }
   ],
   "source": [
    "int('Oui') # renvoie une erreur car conversion impossible"
   ]
  },
  {
   "cell_type": "code",
   "execution_count": 21,
   "metadata": {
    "collapsed": false
   },
   "outputs": [
    {
     "data": {
      "text/plain": [
       "13"
      ]
     },
     "execution_count": 21,
     "metadata": {},
     "output_type": "execute_result"
    }
   ],
   "source": [
    "int('13')"
   ]
  },
  {
   "cell_type": "code",
   "execution_count": 22,
   "metadata": {
    "collapsed": false
   },
   "outputs": [
    {
     "data": {
      "text/plain": [
       "13.0"
      ]
     },
     "execution_count": 22,
     "metadata": {},
     "output_type": "execute_result"
    }
   ],
   "source": [
    "float('13')"
   ]
  },
  {
   "cell_type": "markdown",
   "metadata": {},
   "source": [
    "# Créer un compteur\n",
    "\n",
    "Pour cela il suffir de créer une variable qui augmente de 1 à chaque réussite.\n",
    "\n",
    "On commence par initialiser la variable:\n",
    "\n",
    "    compteur = 0\n",
    "    \n",
    "Puis si l'utilisateur donne une bonne réponse, on augmente de 1 sa valeur:\n",
    "\n",
    "    if <test de bonne réponse>:\n",
    "        compteur = compteur + 1\n"
   ]
  },
  {
   "cell_type": "code",
   "execution_count": 27,
   "metadata": {
    "collapsed": false
   },
   "outputs": [
    {
     "name": "stdout",
     "output_type": "stream",
     "text": [
      "Votre réponse? Oui\n",
      "C'est correct, Bravo.\n",
      "Votre score est de:\n",
      "1\n"
     ]
    }
   ],
   "source": [
    "# Application\n",
    "compteur = 0\n",
    "\n",
    "input('Votre réponse? ')\n",
    "\n",
    "if reponse == 'Oui':\n",
    "    print(\"C'est correct, Bravo.\")\n",
    "    compteur = compteur + 1\n",
    "else:\n",
    "    print(\"C'est râté\")\n",
    "\n",
    "print(\"Votre score est de:\")\n",
    "print(compteur)\n"
   ]
  },
  {
   "cell_type": "markdown",
   "metadata": {},
   "source": [
    "# En plus: Ajouter des images \n",
    "\n",
    "Il est possible d'ajouter des images dans un notebook Ipython, en utilisant le module `IPython.display.Image`. \n",
    "\n",
    "Commencer par importer le module, il est nécessaire de l'importer une seule fois, et généralement on place tous les imports en haut du fichier.\n",
    "\n",
    "    from IPython.display import Image\n",
    "\n",
    "Ensuite vous pouvez afficher une image en précisant son chemin *relatif* par rapport au notebook dans lequel l'image doit être affichée.\n",
    "\n",
    "    Image(\"<chemin vers l'image\")\n",
    "    "
   ]
  },
  {
   "cell_type": "code",
   "execution_count": 1,
   "metadata": {
    "collapsed": false
   },
   "outputs": [
    {
     "data": {
      "image/jpeg": "[encoded data removed]",
      "text/plain": [
       "<IPython.core.display.Image object>"
      ]
     },
     "execution_count": 1,
     "metadata": {},
     "output_type": "execute_result"
    }
   ],
   "source": [
    "# Application\n",
    "# J'ai placé mes images dans un répertoire img\n",
    "\n",
    "from IPython.display import Image\n",
    "Image(filename='img/image-000.jpg')"
   ]
  }
 ],
 "metadata": {
  "kernelspec": {
   "display_name": "Python 3",
   "language": "python",
   "name": "python3"
  },
  "language_info": {
   "codemirror_mode": {
    "name": "ipython",
    "version": 3
   },
   "file_extension": ".py",
   "mimetype": "text/x-python",
   "name": "python",
   "nbconvert_exporter": "python",
   "pygments_lexer": "ipython3",
   "version": "3.4.3"
  }
 },
 "nbformat": 4,
 "nbformat_minor": 0
}
